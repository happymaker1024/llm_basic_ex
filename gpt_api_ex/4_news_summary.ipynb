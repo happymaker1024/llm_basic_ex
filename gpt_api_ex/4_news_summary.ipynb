{
 "cells": [
  {
   "cell_type": "markdown",
   "metadata": {
    "id": "vzaoUxj68T6s"
   },
   "source": [
    "# 뉴스 요약하고 문서화하기"
   ]
  },
  {
   "cell_type": "markdown",
   "metadata": {
    "colab": {
     "base_uri": "https://localhost:8080/"
    },
    "executionInfo": {
     "elapsed": 17157,
     "status": "ok",
     "timestamp": 1712466489444,
     "user": {
      "displayName": "김경하",
      "userId": "12009200320591241303"
     },
     "user_tz": -540
    },
    "id": "XaFmlCm79ITW",
    "outputId": "823b16bf-8cf8-48f7-e7ff-efe1c8260f67"
   },
   "source": [
    "- pip install --upgrade openai"
   ]
  },
  {
   "cell_type": "code",
   "execution_count": 1,
   "metadata": {
    "executionInfo": {
     "elapsed": 1560,
     "status": "ok",
     "timestamp": 1712466490999,
     "user": {
      "displayName": "김경하",
      "userId": "12009200320591241303"
     },
     "user_tz": -540
    },
    "id": "E-T_Aq5d9Kqc"
   },
   "outputs": [],
   "source": [
    "import os\n",
    "from dotenv import load_dotenv\n",
    "\n",
    "# .env 파일 경로 지정 \n",
    "load_dotenv(override=True)\n",
    "\n",
    "# Open AI API 키 설정하기\n",
    "OPENAI_API_KEY = os.getenv('OPENAI_API_KEY')"
   ]
  },
  {
   "cell_type": "code",
   "execution_count": 2,
   "metadata": {
    "executionInfo": {
     "elapsed": 5,
     "status": "ok",
     "timestamp": 1712466468448,
     "user": {
      "displayName": "김경하",
      "userId": "12009200320591241303"
     },
     "user_tz": -540
    },
    "id": "ZFnCzRFC8POF"
   },
   "outputs": [],
   "source": [
    "summary_prompt = \"\"\"당신은 언어 이해 및 요약에 훈련된 고도로 숙련된 AI입니다.\n",
    "다음 텍스트를 읽고 간결한 추상적 단락으로 요약했으면 합니다.\n",
    "전체 텍스트를 읽을 필요 없이 토론의 요점을 이해하는 데 도움이 될 수 있는 일관되고\n",
    "읽을 수 있는 요약을 제공하여 가장 중요한 요점을 유지하는 것을 목표로 합니다.\n",
    "불필요한 세부 사항이나 접선 사항은 피하십시오.\"\"\"\n",
    "key_points_prompt = \"\"\"당신은 정보를 핵심 포인트로 전달하는 데 특화된 능숙한 AI입니다.\n",
    "다음 텍스트를 기반으로 논의되거나 언급된 주요 포인트를 확인하고 나열합니다.\n",
    "이는 논의의 본질에 가장 중요한 아이디어, 결과 또는 주제가 되어야 합니다.\n",
    "당신의 목표는 누군가가 읽을 수 있는 목록을 제공하여 이야기된 내용을 빠르게 이해하는 것입니다.\"\"\"\n",
    "action_items_prompt = \"\"\"당신은 대화를 분석하고 행동 항목을 추출하는 데 있어 AI 전문가입니다.\n",
    "본문을 검토하고 합의되거나 수행이 필요하다고 언급된 모든 작업, 과제 또는 행동을 식별하십시오.\n",
    "이것들은 특정 개인에게 할당된 작업일 수도 있고 그룹이 취하기로 결정한 일반적인 행동일 수도 있습니다.\n",
    "이러한 행동 항목을 명확하고 간결하게 나열하십시오.\"\"\"\n",
    "sentiment_prompt = \"\"\"당신은 언어와 감정 분석에 전문성을 갖춘 AI로서 당신의 과제는 다음 텍스트의 감\n",
    "정을 분석하는 것입니다.\n",
    "토론의 전체적인 톤, 사용된 언어가 전달하는 감정, 단어와 구가 사용되는 맥락을 고려하십시오.\n",
    "감정이 일반적으로 긍정적인지 부정적인지 중립적인지를 표시하고 가능한 한 당신의 분석에 대해 간략한 설명을 제\n",
    "공하십시오.\"\"\""
   ]
  },
  {
   "cell_type": "code",
   "execution_count": 3,
   "metadata": {},
   "outputs": [],
   "source": [
    "# OpenAI 객체 생성\n",
    "from openai import OpenAI\n",
    "client = OpenAI(api_key = OPENAI_API_KEY)"
   ]
  },
  {
   "cell_type": "markdown",
   "metadata": {},
   "source": [
    "# 번역 함수"
   ]
  },
  {
   "cell_type": "code",
   "execution_count": 4,
   "metadata": {
    "executionInfo": {
     "elapsed": 293,
     "status": "ok",
     "timestamp": 1712466504734,
     "user": {
      "displayName": "김경하",
      "userId": "12009200320591241303"
     },
     "user_tz": -540
    },
    "id": "oRxIJXE-9M1D"
   },
   "outputs": [],
   "source": [
    "def text_extraction(text, prompt):\n",
    "    response = client.chat.completions.create(\n",
    "        model=\"gpt-4-turbo\",\n",
    "        temperature=0,\n",
    "        messages=[\n",
    "        { \"role\": \"system\", \"content\": prompt },\n",
    "        { \"role\": \"user\", \"content\": text }\n",
    "        ]\n",
    "    )\n",
    "    return response.choices[0].message.content"
   ]
  },
  {
   "cell_type": "markdown",
   "metadata": {
    "id": "ejN3LKo--luK"
   },
   "source": [
    "## 음성 파일 -> text로 변환"
   ]
  },
  {
   "cell_type": "code",
   "execution_count": 5,
   "metadata": {
    "executionInfo": {
     "elapsed": 6636,
     "status": "ok",
     "timestamp": 1712466694111,
     "user": {
      "displayName": "김경하",
      "userId": "12009200320591241303"
     },
     "user_tz": -540
    },
    "id": "mJ4vln9w9Sg1"
   },
   "outputs": [],
   "source": [
    "audio_file_path = \"datas/news.mp3\"\n",
    "with open(audio_file_path, 'rb') as audio_file:\n",
    "    transcription = client.audio.transcriptions.create(\n",
    "    model=\"whisper-1\",\n",
    "    file=audio_file,\n",
    "    response_format=\"text\"\n",
    ")"
   ]
  },
  {
   "cell_type": "markdown",
   "metadata": {
    "id": "LzyWrZ2d-zLR"
   },
   "source": [
    "## summary 하기"
   ]
  },
  {
   "cell_type": "code",
   "execution_count": 6,
   "metadata": {
    "colab": {
     "base_uri": "https://localhost:8080/"
    },
    "executionInfo": {
     "elapsed": 31548,
     "status": "ok",
     "timestamp": 1712466731280,
     "user": {
      "displayName": "김경하",
      "userId": "12009200320591241303"
     },
     "user_tz": -540
    },
    "id": "_2u7vMvH9uh8",
    "outputId": "091119dc-82fb-4955-a872-d7cdfb61a978"
   },
   "outputs": [
    {
     "name": "stdout",
     "output_type": "stream",
     "text": [
      "{'abstract_summary': '짧은 장마와 긴 폭염으로 인해 말벌 활동이 증가하면서 소방대원들의 벌집 제거 출동이 급증했습니다. 소방대원들은 보호복을 착용하고 스프레이를 사용하여 벌집을 제거하는 작업을 수행하고 있으며, 이로 인해 말벌 쏘임 사고도 빈번하게 발생하고 있습니다. 소방당국은 말벌이 자주 나타나는 지역에서는 주변을 잘 살펴 벌집을 신고하고, 벌에게 공격당할 경우 신속히 현장을 벗어날 것을 권장하고 있습니다. 지난달 벌집 제거 출동은 전년 대비 57% 증가한 44,000건에 달했습니다.', 'key_points': '1. 짧은 장마와 긴 폭염으로 인해 말벌 활동이 증가하였습니다.\\n2. 소방대원들이 말벌 제거 작업에 더 자주 출동하고 있으며, 일일 최대 15건까지 출동하는 경우도 있습니다.\\n3. 말벌 제거 출동 건수는 지난해 대비 57% 증가하여 지난달에만 44,000건에 달했습니다.\\n4. 소방대원들은 말벌 제거 시 특수 보호복을 착용하고, 벌집을 스프레이로 처리합니다.\\n5. 소방당국은 말벌이 자주 나타나는 지역에서는 주변을 잘 살펴 벌집을 신고하고, 벌 공격 시 빠르게 현장을 벗어날 것을 조언합니다.', 'action_items': '1. 소방대원들은 말벌집 제거 작업을 계속 수행합니다.\\n2. 시민들은 말벌이 자주 나타나는 지역에서 벌집을 발견하면 즉시 소방당국에 신고해야 합니다.\\n3. 말벌 공격을 받을 경우, 시민들은 현장에서 약 20미터 정도 빠르게 벗어나야 합니다.', 'sentiment': '이 텍스트의 전체적인 감정은 주로 중립적이며 경고적인 요소가 포함되어 있습니다. 텍스트는 말벌의 증가와 이로 인한 소방대원의 활동 증가를 설명하고 있으며, 이는 자연 현상과 그에 따른 사회적 대응을 보고하는 뉴스 보도의 특성을 반영합니다. 글에서는 말벌로 인한 위험과 소방대원들의 대응 과정을 상세히 설명하고 있어, 독자에게 정보를 제공하고 주의를 촉구하는 목적이 강합니다.\\n\\n감정적으로는 긴장감이 느껴지기도 하지만, 전반적으로는 사실적인 보도의 특성상 감정 표현이 크게 드러나지 않습니다. 소방대원들의 노력과 벌집 제거 과정에서의 안전 조치 등은 긍정적인 측면을 부각시키지만, 벌의 위협과 같은 부정적인 상황도 함께 언급되어 감정의 균형을 맞추고 있습니다. 따라서 이 텍스트는 주로 정보 전달과 경고의 목적을 가지며, 감정적으로는 중립적인 톤을 유지하고 있습니다.'}\n"
     ]
    }
   ],
   "source": [
    "abstract_summary = text_extraction(transcription, summary_prompt)\n",
    "key_points = text_extraction(transcription, key_points_prompt)\n",
    "action_items = text_extraction(transcription, action_items_prompt)\n",
    "sentiment = text_extraction(transcription, sentiment_prompt)\n",
    "news_data = {\n",
    "    'abstract_summary': abstract_summary,\n",
    "    'key_points': key_points,\n",
    "    'action_items': action_items,\n",
    "    'sentiment': sentiment\n",
    "}\n",
    "print(news_data)"
   ]
  },
  {
   "cell_type": "code",
   "execution_count": 7,
   "metadata": {},
   "outputs": [
    {
     "name": "stdout",
     "output_type": "stream",
     "text": [
      "{\n",
      "    \"abstract_summary\": \"짧은 장마와 긴 폭염으로 인해 말벌 활동이 증가하면서 소방대원들의 벌집 제거 출동이 급증했습니다. 소방대원들은 보호복을 착용하고 스프레이를 사용하여 벌집을 제거하는 작업을 수행하고 있으며, 이로 인해 말벌 쏘임 사고도 빈번하게 발생하고 있습니다. 소방당국은 말벌이 자주 나타나는 지역에서는 주변을 잘 살펴 벌집을 신고하고, 벌에게 공격당할 경우 신속히 현장을 벗어날 것을 권장하고 있습니다. 지난달 벌집 제거 출동은 전년 대비 57% 증가한 44,000건에 달했습니다.\",\n",
      "    \"key_points\": \"1. 짧은 장마와 긴 폭염으로 인해 말벌 활동이 증가하였습니다.\\n2. 소방대원들이 말벌 제거 작업에 더 자주 출동하고 있으며, 일일 최대 15건까지 출동하는 경우도 있습니다.\\n3. 말벌 제거 출동 건수는 지난해 대비 57% 증가하여 지난달에만 44,000건에 달했습니다.\\n4. 소방대원들은 말벌 제거 시 특수 보호복을 착용하고, 벌집을 스프레이로 처리합니다.\\n5. 소방당국은 말벌이 자주 나타나는 지역에서는 주변을 잘 살펴 벌집을 신고하고, 벌 공격 시 빠르게 현장을 벗어날 것을 조언합니다.\",\n",
      "    \"action_items\": \"1. 소방대원들은 말벌집 제거 작업을 계속 수행합니다.\\n2. 시민들은 말벌이 자주 나타나는 지역에서 벌집을 발견하면 즉시 소방당국에 신고해야 합니다.\\n3. 말벌 공격을 받을 경우, 시민들은 현장에서 약 20미터 정도 빠르게 벗어나야 합니다.\",\n",
      "    \"sentiment\": \"이 텍스트의 전체적인 감정은 주로 중립적이며 경고적인 요소가 포함되어 있습니다. 텍스트는 말벌의 증가와 이로 인한 소방대원의 활동 증가를 설명하고 있으며, 이는 자연 현상과 그에 따른 사회적 대응을 보고하는 뉴스 보도의 특성을 반영합니다. 글에서는 말벌로 인한 위험과 소방대원들의 대응 과정을 상세히 설명하고 있어, 독자에게 정보를 제공하고 주의를 촉구하는 목적이 강합니다.\\n\\n감정적으로는 긴장감이 느껴지기도 하지만, 전반적으로는 사실적인 보도의 특성상 감정 표현이 크게 드러나지 않습니다. 소방대원들의 노력과 벌집 제거 과정에서의 안전 조치 등은 긍정적인 측면을 부각시키지만, 벌의 위협과 같은 부정적인 상황도 함께 언급되어 감정의 균형을 맞추고 있습니다. 따라서 이 텍스트는 주로 정보 전달과 경고의 목적을 가지며, 감정적으로는 중립적인 톤을 유지하고 있습니다.\"\n",
      "}\n"
     ]
    }
   ],
   "source": [
    "import json\n",
    "print(json.dumps(news_data, ensure_ascii=False, indent=4))"
   ]
  },
  {
   "cell_type": "code",
   "execution_count": 8,
   "metadata": {},
   "outputs": [
    {
     "name": "stdout",
     "output_type": "stream",
     "text": [
      "abstract_summary:\n",
      "짧은 장마와 긴 폭염으로 인해 말벌 활동이 증가하면서 소방대원들의 벌집 제거 출동이 급증했습니다. 소방대원들은 보호복을 착용하고 스프레이를 사용하여 벌집을 제거하는 작업을 수행하고 있으며, 이로 인해 말벌 쏘임 사고도 빈번하게 발생하고 있습니다. 소방당국은 말벌이 자주 나타나는 지역에서는 주변을 잘 살펴 벌집을 신고하고, 벌에게 공격당할 경우 신속히 현장을 벗어날 것을 권장하고 있습니다. 지난달 벌집 제거 출동은 전년 대비 57% 증가한 44,000건에 달했습니다.\n",
      "\n",
      "key_points:\n",
      "1. 짧은 장마와 긴 폭염으로 인해 말벌 활동이 증가하였습니다.\n",
      "2. 소방대원들이 말벌 제거 작업에 더 자주 출동하고 있으며, 일일 최대 15건까지 출동하는 경우도 있습니다.\n",
      "3. 말벌 제거 출동 건수는 지난해 대비 57% 증가하여 지난달에만 44,000건에 달했습니다.\n",
      "4. 소방대원들은 말벌 제거 시 특수 보호복을 착용하고, 벌집을 스프레이로 처리합니다.\n",
      "5. 소방당국은 말벌이 자주 나타나는 지역에서는 주변을 잘 살펴 벌집을 신고하고, 벌 공격 시 빠르게 현장을 벗어날 것을 조언합니다.\n",
      "\n",
      "action_items:\n",
      "1. 소방대원들은 말벌집 제거 작업을 계속 수행합니다.\n",
      "2. 시민들은 말벌이 자주 나타나는 지역에서 벌집을 발견하면 즉시 소방당국에 신고해야 합니다.\n",
      "3. 말벌 공격을 받을 경우, 시민들은 현장에서 약 20미터 정도 빠르게 벗어나야 합니다.\n",
      "\n",
      "sentiment:\n",
      "이 텍스트의 전체적인 감정은 주로 중립적이며 경고적인 요소가 포함되어 있습니다. 텍스트는 말벌의 증가와 이로 인한 소방대원의 활동 증가를 설명하고 있으며, 이는 자연 현상과 그에 따른 사회적 대응을 보고하는 뉴스 보도의 특성을 반영합니다. 글에서는 말벌로 인한 위험과 소방대원들의 대응 과정을 상세히 설명하고 있어, 독자에게 정보를 제공하고 주의를 촉구하는 목적이 강합니다.\n",
      "\n",
      "감정적으로는 긴장감이 느껴지기도 하지만, 전반적으로는 사실적인 보도의 특성상 감정 표현이 크게 드러나지 않습니다. 소방대원들의 노력과 벌집 제거 과정에서의 안전 조치 등은 긍정적인 측면을 부각시키지만, 벌의 위협과 같은 부정적인 상황도 함께 언급되어 감정의 균형을 맞추고 있습니다. 따라서 이 텍스트는 주로 정보 전달과 경고의 목적을 가지며, 감정적으로는 중립적인 톤을 유지하고 있습니다.\n",
      "\n"
     ]
    }
   ],
   "source": [
    "for innews_data in news_data:\n",
    "    print(f\"{innews_data}:\\n{news_data[innews_data]}\\n\")"
   ]
  },
  {
   "cell_type": "markdown",
   "metadata": {
    "id": "j2FPYI1N-hVj"
   },
   "source": [
    "## doc 파일로 저장하기"
   ]
  },
  {
   "cell_type": "markdown",
   "metadata": {
    "colab": {
     "base_uri": "https://localhost:8080/"
    },
    "executionInfo": {
     "elapsed": 8747,
     "status": "ok",
     "timestamp": 1712466686765,
     "user": {
      "displayName": "김경하",
      "userId": "12009200320591241303"
     },
     "user_tz": -540
    },
    "id": "f2YTONc198WK",
    "outputId": "f90eb396-ff8c-4f3b-dcf0-d2f4f890edb3"
   },
   "source": [
    "- pip install python-docx"
   ]
  },
  {
   "cell_type": "code",
   "execution_count": 11,
   "metadata": {
    "executionInfo": {
     "elapsed": 3,
     "status": "ok",
     "timestamp": 1712466736489,
     "user": {
      "displayName": "김경하",
      "userId": "12009200320591241303"
     },
     "user_tz": -540
    },
    "id": "Vgqy2GRZ92SC"
   },
   "outputs": [],
   "source": [
    "from docx import Document\n",
    "doc = Document()\n",
    "\n",
    "for key, value in news_data.items():\n",
    "    # _로 나눈 단어들을 대문자로 만들고 공백으로 연결\n",
    "    heading = ' '.join(word.capitalize() for word in key.split('_'))\n",
    "    doc.add_heading(heading, level=1)\n",
    "    doc.add_paragraph(value)\n",
    "    # 섹션 사이에 줄바꿈 추가\n",
    "    doc.add_paragraph()\n",
    "    \n",
    "# 워드 파일로 데이터 저장\n",
    "import os\n",
    "\n",
    "folder_path = \"output\"\n",
    "os.makedirs(folder_path, exist_ok=True)\n",
    "doc.save('output/news_minutes.docx')"
   ]
  },
  {
   "cell_type": "code",
   "execution_count": null,
   "metadata": {},
   "outputs": [],
   "source": []
  },
  {
   "cell_type": "code",
   "execution_count": null,
   "metadata": {},
   "outputs": [],
   "source": []
  }
 ],
 "metadata": {
  "colab": {
   "authorship_tag": "ABX9TyNsfgSR5bp+/5GSUPk2KKr6",
   "provenance": []
  },
  "kernelspec": {
   "display_name": "llm_env",
   "language": "python",
   "name": "python3"
  },
  "language_info": {
   "codemirror_mode": {
    "name": "ipython",
    "version": 3
   },
   "file_extension": ".py",
   "mimetype": "text/x-python",
   "name": "python",
   "nbconvert_exporter": "python",
   "pygments_lexer": "ipython3",
   "version": "3.10.19"
  }
 },
 "nbformat": 4,
 "nbformat_minor": 4
}

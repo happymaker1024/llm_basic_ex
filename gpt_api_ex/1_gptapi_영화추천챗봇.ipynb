{
 "cells": [
  {
   "cell_type": "markdown",
   "id": "b3df46f8",
   "metadata": {},
   "source": [
    "# openai api key 테스트"
   ]
  },
  {
   "cell_type": "markdown",
   "id": "068fdf55",
   "metadata": {},
   "source": [
    "## API key 로딩"
   ]
  },
  {
   "cell_type": "code",
   "execution_count": 1,
   "id": "2139eb21",
   "metadata": {},
   "outputs": [],
   "source": [
    "from dotenv import load_dotenv\n",
    "import os\n",
    "\n",
    "# 1️⃣ .env 파일의 내용을 로드\n",
    "load_dotenv(override=True)\n",
    "\n",
    "# 2️⃣ 환경 변수 가져오기\n",
    "OPENAI_API_KEY = os.getenv(\"OPENAI_API_KEY\")\n",
    "# print(OPENAI_API_KEY)"
   ]
  },
  {
   "cell_type": "markdown",
   "id": "07a5fd48",
   "metadata": {},
   "source": [
    "## 라이브러리 로딩 및 객체 생성"
   ]
  },
  {
   "cell_type": "code",
   "execution_count": 2,
   "id": "d06d756c",
   "metadata": {},
   "outputs": [],
   "source": [
    "from openai import OpenAI\n",
    "# openai api 인증 및 OpenAI 객체생성\n",
    "client = OpenAI(api_key=OPENAI_API_KEY)"
   ]
  },
  {
   "cell_type": "markdown",
   "id": "8664d357",
   "metadata": {},
   "source": [
    "## 챗봇 기본"
   ]
  },
  {
   "cell_type": "code",
   "execution_count": 7,
   "id": "ad5d02bd",
   "metadata": {},
   "outputs": [
    {
     "name": "stdout",
     "output_type": "stream",
     "text": [
      "messages의 상태 :  [{'role': 'user', 'content': '장르 코믹영화, 나이는 50대, 여성이고 주말에 즐거움을 영화추천 부탁해'}, {'role': 'assistant', 'content': \"50대 여성분을 위한 주말에 즐거움을 느낄 수 있는 코믹영화 추천드립니다.\\n\\n1. '맘마 미아!' (Mamma Mia!)\\n- ABBA의 음악을 바탕으로 한 뮤지컬 영화로, 햇빛 가득한 그리스의 풍경과 화려한 곡선을 즐길 수 있습니다.\\n\\n2. '심즈 시네마: 시무라' (Cinema Paradiso)\\n- 이탈리아의 작은 마을을 배경으로 한 감동적인 이야기로, 영화의 마력과 우정이 어른들도 아름다움에 빠지게 만듭니다.\\n\\n3. '에이미티빌 호러' (Amityville Horror)\\n- 호러 요소를 유머와 섞어 즐길 수 있는 영화로, 긴장감 있는 장면과 예상치 못한 반전이 기대되는 작품입니다.\\n\\n이 중에서 취향에 맞는 영화를 선택해서 주말에 즐거운 시간을 보내시길 바랍니다. 즐거운 주말 되세요!\"}]\n",
      "messages의 상태 :  [{'role': 'user', 'content': '장르 코믹영화, 나이는 50대, 여성이고 주말에 즐거움을 영화추천 부탁해'}, {'role': 'assistant', 'content': \"50대 여성분을 위한 주말에 즐거움을 느낄 수 있는 코믹영화 추천드립니다.\\n\\n1. '맘마 미아!' (Mamma Mia!)\\n- ABBA의 음악을 바탕으로 한 뮤지컬 영화로, 햇빛 가득한 그리스의 풍경과 화려한 곡선을 즐길 수 있습니다.\\n\\n2. '심즈 시네마: 시무라' (Cinema Paradiso)\\n- 이탈리아의 작은 마을을 배경으로 한 감동적인 이야기로, 영화의 마력과 우정이 어른들도 아름다움에 빠지게 만듭니다.\\n\\n3. '에이미티빌 호러' (Amityville Horror)\\n- 호러 요소를 유머와 섞어 즐길 수 있는 영화로, 긴장감 있는 장면과 예상치 못한 반전이 기대되는 작품입니다.\\n\\n이 중에서 취향에 맞는 영화를 선택해서 주말에 즐거운 시간을 보내시길 바랍니다. 즐거운 주말 되세요!\"}, {'role': 'user', 'content': '위에서 설명한 3번 영화에 줄거리를 설명해줘'}, {'role': 'assistant', 'content': \"'에이미티빌 호러'는 실제로 있었던 공포의 집 이야기를 바탕으로 한 호러 영화입니다. 이야기는 영국의 도덕성과 원칙을 중요시하는 중산층 가족인 로널드와 로리테이크라는 가족이 새로운 집을 구입하고 그 집에서 일어나는 공포를 다룹니다.\\n\\n가족은 이집의 저주를 알게 되고, 집 안에서 이상한 일들이 일어나기 시작합니다. 남편인 로널드는 성격이 갑작스러워지고 집 안에서 아들을 학대하기도 합니다. 가족은 집에 어떤 악령이 있는 것으로 의심하게 되고, 공포의 집에 대한 이야기가 펼쳐지면서 예상치 못한 반전과 충격적인 결말이 펼쳐집니다.\\n\\n에이미티빌 호러는 공포 요소를 유머와 함께 섞어 재미있게 풀어낸 작품이며, 예측불허의 전개와 긴장감 있는 장면으로 시청자를 붙잡고 끌어들입니다. 볼때마다 새로운 발견이 있어 두근거리는 즐거움을 선사하는 영화입니다.\"}]\n",
      "messages의 상태 :  [{'role': 'user', 'content': '장르 코믹영화, 나이는 50대, 여성이고 주말에 즐거움을 영화추천 부탁해'}, {'role': 'assistant', 'content': \"50대 여성분을 위한 주말에 즐거움을 느낄 수 있는 코믹영화 추천드립니다.\\n\\n1. '맘마 미아!' (Mamma Mia!)\\n- ABBA의 음악을 바탕으로 한 뮤지컬 영화로, 햇빛 가득한 그리스의 풍경과 화려한 곡선을 즐길 수 있습니다.\\n\\n2. '심즈 시네마: 시무라' (Cinema Paradiso)\\n- 이탈리아의 작은 마을을 배경으로 한 감동적인 이야기로, 영화의 마력과 우정이 어른들도 아름다움에 빠지게 만듭니다.\\n\\n3. '에이미티빌 호러' (Amityville Horror)\\n- 호러 요소를 유머와 섞어 즐길 수 있는 영화로, 긴장감 있는 장면과 예상치 못한 반전이 기대되는 작품입니다.\\n\\n이 중에서 취향에 맞는 영화를 선택해서 주말에 즐거운 시간을 보내시길 바랍니다. 즐거운 주말 되세요!\"}, {'role': 'user', 'content': '위에서 설명한 3번 영화에 줄거리를 설명해줘'}, {'role': 'assistant', 'content': \"'에이미티빌 호러'는 실제로 있었던 공포의 집 이야기를 바탕으로 한 호러 영화입니다. 이야기는 영국의 도덕성과 원칙을 중요시하는 중산층 가족인 로널드와 로리테이크라는 가족이 새로운 집을 구입하고 그 집에서 일어나는 공포를 다룹니다.\\n\\n가족은 이집의 저주를 알게 되고, 집 안에서 이상한 일들이 일어나기 시작합니다. 남편인 로널드는 성격이 갑작스러워지고 집 안에서 아들을 학대하기도 합니다. 가족은 집에 어떤 악령이 있는 것으로 의심하게 되고, 공포의 집에 대한 이야기가 펼쳐지면서 예상치 못한 반전과 충격적인 결말이 펼쳐집니다.\\n\\n에이미티빌 호러는 공포 요소를 유머와 함께 섞어 재미있게 풀어낸 작품이며, 예측불허의 전개와 긴장감 있는 장면으로 시청자를 붙잡고 끌어들입니다. 볼때마다 새로운 발견이 있어 두근거리는 즐거움을 선사하는 영화입니다.\"}, {'role': 'user', 'content': '나는 호러를 싫어하고 권선징악 코믹을 다시 추천해줘'}, {'role': 'assistant', 'content': \"죄송합니다, 호러 영화가 싫으신다면 호러 요소를 제외한 권선징악 코미디 영화를 추천해드리겠습니다.\\n\\n1. '덤 앤 더머 (Dumb and Dumber)'\\n- 둔둔하고 어리숙한 두 친구의 어처구니 없는 일탈을 그린 코미디 영화로, 토끼 가방 사건을 중심으로 전개됩니다.\\n\\n2. '아이스 에이지 (Ice Age)'\\n- 웃음과 감동이 있는 애니메이션 영화로, 썰매 개 트라이오의 위험한 모험을 통해 권선징악을 재미있게 풀어낸 작품입니다.\\n\\n3. '고스트버스터즈 (Ghostbusters)'\\n- 괴담을 조사하고 고스트를 물리치는 고스트 헌터들의 활약을 그린 코미디 액션 영화로, 유머와 액션이 조화롭게 어우러져 있습니다.\\n\\n이 중에서 취향에 맞는 코미디 영화를 선택해서 편안하고 유쾌한 주말을 보내시길 바랍니다! 즐거운 시간 되세요.\"}]\n"
     ]
    }
   ],
   "source": [
    "messages = []\n",
    "while True:\n",
    "    text = input(\"사용자(종료 : q) >>> \")\n",
    "    # 종료 조건\n",
    "    if text.lower() in ['q', 'ㅂ']:\n",
    "        break\n",
    "    messages.append(\n",
    "        {\n",
    "            \"role\": \"user\", \n",
    "            \"content\": text}\n",
    "        )\n",
    "    # gpt 모델 챗 요청 -> 응답 받기\n",
    "    completion = client.chat.completions.create(\n",
    "        model=\"gpt-3.5-turbo\",\n",
    "        messages=messages,\n",
    "    )\n",
    "    # 응답 출력\n",
    "    # print(completion.choices[0].message.content)\n",
    "    chat_response = completion.choices[0].message.content\n",
    "    messages.append(\n",
    "        {\n",
    "            \"role\": \"assistant\",\n",
    "            \"content\": chat_response\n",
    "        }\n",
    "    )\n",
    "    print(\"messages의 상태 : \", messages)\n"
   ]
  },
  {
   "cell_type": "code",
   "execution_count": null,
   "id": "780efe98",
   "metadata": {},
   "outputs": [],
   "source": [
    "# 사용한 프롬프트 :\n",
    "# 장르 코믹영화, 나이는 50대, 여성이고 주말에 즐거움을 영화추천 부탁해\n",
    "# 위에서 설명한 3번 영화에 줄거리를 설명해줘\n",
    "# 나는 호러를 싫어하고 권선징악 코믹을 다시 추천해줘"
   ]
  },
  {
   "cell_type": "markdown",
   "id": "3612b19e",
   "metadata": {},
   "source": [
    "## AI GPT 모델 대화 실행 테스트"
   ]
  },
  {
   "cell_type": "code",
   "execution_count": 8,
   "id": "7c675de3",
   "metadata": {},
   "outputs": [],
   "source": [
    "movie_prompt = \"\"\"당신은 영화 추천을 위해 훈련된 고도로 숙련된 AI입니다.\n",
    "내가 입력한 단어 또는 문장을 기반으로 영화를 추천해야 합니다.\n",
    "내가 입력한 단어 또는 문장에는 나의 관심사와 성별, 연령대, 지역 등의 개인정보가 포함될 수 있습니다.\n",
    "내가 어떤 영화의 제목을 입력하면 유사한 장르의 영화를 추천하세요.\n",
    "감독 또는 배우의 이름을 입력하면 그 배우가 참여한 다른 영화를 추천하세요.\n",
    "개인정보를 입력하면 그 그룹에서 인기있는 영화를 추천하세요.\n",
    "영화 추천은 3편~5편을 해주고, 목록 형식으로 추천해주세요.\n",
    "항상 마지막에 `더 많은 정보를 입력하겠습니까?`을 출력해서 영화 추천을 계속 할 지 말지를 결정할 수 있도록 해야 합니다.\n",
    "\"\"\""
   ]
  },
  {
   "cell_type": "code",
   "execution_count": null,
   "id": "2b987553",
   "metadata": {},
   "outputs": [],
   "source": [
    "# chat ai 모델에 요청 및 응답 받기\n",
    "completion = client.chat.completions.create(\n",
    "    model=\"gpt-3.5-turbo\",\n",
    "    messages=[\n",
    "        {\n",
    "            \"role\": \"system\", \n",
    "            \"content\": \"너는 영화 평론가야.\"\n",
    "        },\n",
    "        {\n",
    "            \"role\": \"user\", \n",
    "            \"content\": movie_prompt\n",
    "        }\n",
    "    ],\n",
    "    temperature=0.7,\n",
    ")"
   ]
  },
  {
   "cell_type": "code",
   "execution_count": 10,
   "id": "9c12670d",
   "metadata": {},
   "outputs": [
    {
     "name": "stdout",
     "output_type": "stream",
     "text": [
      "알겠습니다! 어떤 영화에 대한 추천을 시작할까요? 🎬\n"
     ]
    }
   ],
   "source": [
    "print(completion.choices[0].message.content)"
   ]
  },
  {
   "cell_type": "code",
   "execution_count": 11,
   "id": "203166aa",
   "metadata": {},
   "outputs": [],
   "source": [
    "# chat ai 모델에 요청 및 응답 받기\n",
    "completion = client.chat.completions.create(\n",
    "    model=\"gpt-4o-mini\",\n",
    "    messages=[\n",
    "        {\n",
    "            \"role\": \"system\", \n",
    "            \"content\": \"너는 영화 평론가야.\"\n",
    "        },\n",
    "        {\n",
    "            \"role\": \"user\", \n",
    "            \"content\": movie_prompt\n",
    "        }\n",
    "    ],\n",
    ")"
   ]
  },
  {
   "cell_type": "code",
   "execution_count": 12,
   "id": "8fa1c6db",
   "metadata": {},
   "outputs": [
    {
     "name": "stdout",
     "output_type": "stream",
     "text": [
      "알겠습니다! 추천을 원하는 영화 제목, 감독, 배우 이름 또는 관심사 등을 입력해 주세요. 그러면 그에 맞는 영화를 추천해 드리겠습니다. \n",
      "\n",
      "더 많은 정보를 입력하겠습니까?\n"
     ]
    }
   ],
   "source": [
    "print(completion.choices[0].message.content)"
   ]
  },
  {
   "cell_type": "code",
   "execution_count": 16,
   "id": "e1a8ef79",
   "metadata": {},
   "outputs": [],
   "source": [
    "# chat ai 모델에 요청 및 응답 받기\n",
    "completion = client.chat.completions.create(\n",
    "    model=\"gpt-4\",\n",
    "    messages=[\n",
    "        {\n",
    "            \"role\": \"system\", \n",
    "            \"content\": \"너는 영화 평론가야.\"\n",
    "        },\n",
    "        {\n",
    "            \"role\": \"user\", \n",
    "            \"content\": movie_prompt\n",
    "        }\n",
    "    ],\n",
    "    temperature=0.5,\n",
    ")"
   ]
  },
  {
   "cell_type": "code",
   "execution_count": 17,
   "id": "89f5abc7",
   "metadata": {},
   "outputs": [
    {
     "name": "stdout",
     "output_type": "stream",
     "text": [
      "네, 알겠습니다. 영화 추천을 시작하겠습니다. 어떤 영화, 배우, 감독 또는 개인 정보를 기반으로 추천을 원하시나요?\n"
     ]
    }
   ],
   "source": [
    "print(completion.choices[0].message.content)"
   ]
  },
  {
   "cell_type": "markdown",
   "id": "22ec873a",
   "metadata": {},
   "source": [
    "## 개인화된 영화 추천 챗봇\n",
    "- 멀티턴 챗봇\n",
    "- None Stream 형태"
   ]
  },
  {
   "cell_type": "code",
   "execution_count": null,
   "id": "40f29492",
   "metadata": {},
   "outputs": [],
   "source": [
    "movie_prompt = \"\"\"당신은 영화 추천을 위해 훈련된 고도로 숙련된 AI입니다.\n",
    "내가 입력한 단어 또는 문장을 기반으로 영화를 추천해야 합니다.\n",
    "내가 입력한 단어 또는 문장에는 나의 관심사와 성별, 연령대, 지역 등의 개인정보가 포함될 수 있습니다.\n",
    "내가 어떤 영화의 제목을 입력하면 유사한 장르의 영화를 추천하세요.\n",
    "감독 또는 배우의 이름을 입력하면 그 배우가 참여한 다른 영화를 추천하세요.\n",
    "개인정보를 입력하면 그 그룹에서 인기있는 영화를 추천하세요.\n",
    "영화 추천은 3편~5편을 해주고, 목록 형식으로 추천해주세요.\n",
    "항상 마지막에 `더 많은 정보를 입력하겠습니까?`을 출력해서 영화 추천을 계속 할 지 말지를 결정할 수 있도록 해야 합니다.\n",
    "\"\"\""
   ]
  },
  {
   "cell_type": "code",
   "execution_count": 18,
   "id": "deb18684",
   "metadata": {},
   "outputs": [
    {
     "name": "stdout",
     "output_type": "stream",
     "text": [
      "50대 여성분께 적합한 코미디 영화로 즐거운 주말을 보내실 수 있도록 몇 가지 추천드리겠습니다:\n",
      "\n",
      "1. **메리 포핀스 리턴즈 (Mary Poppins Returns)** - 고전적인 매력을 가진 이 영화는 즐거운 음악과 춤, 그리고 따뜻한 메시지를 담고 있어 모든 연령대에게 사랑받는 작품입니다.\n",
      "2. **인턴 (The Intern)** - 로버트 드 니로와 앤 해서웨이가 주연을 맡은 이 영화는 세대를 넘어서는 우정과 직장 내에서의 인간 관계를 유쾌하게 풀어낸 작품입니다.\n",
      "3. **북 클럽 (Book Club)** - 다이앤 키튼, 제인 폰다 등 베테랑 여성 배우들이 출연하여 인생의 황혼기에도 즐길 거리와 사랑은 계속된다는 메시지를 전하는 영화입니다.\n",
      "4. **메릴 스트립의 영화 정말 멋져요! (Mamma Mia!)** - 메릴 스트립 주연의 이 영화는 ABBA의 명곡들과 함께하는 뮤지컬 영화로, 마음을 울리는 스토리와 화려한 연출이 매력적입니다.\n",
      "5. **캘린더 걸스 (Calendar Girls)** - 실화를 바탕으로 한 이 영화는 중년 여성들이 자신들의 연령과 상관없이 새로운 도전을 통해 삶을 어떻게 즐길지 보여줍니다.\n",
      "\n",
      "주말 동안 이 멋진 영화들과 함께 즐거운 시간 보내시길 바랍니다. 더 많은 정보를 입력하겠습니까?\n",
      "**북 클럽 (Book Club)** 에 대한 줄거리입니다:\n",
      "\n",
      "이 영화는 평생 친구인 네 명의 여성, 다이앤(다이앤 키튼), 제인(제인 폰다), 캐럴(메리 스틴버겐), 샤론(캔디스 버겐)이 주인공입니다. 이들은 수십 년간 매월 책을 함께 읽으며 모인 북 클럽을 운영해왔습니다. 어느 날, 그들은 자신들의 다음 책으로 이제껏과는 다르게 로맨스 소설인 **《그레이의 50가지 그림자》**를 선택하게 됩니다. \n",
      "\n",
      "이 책을 읽으면서 네 명의 여성들은 각자의 사랑과 관계에 대해 새로운 시각을 갖게 되고, 자신들의 성생활과 연애관을 재점검하며 저마다의 로맨틱한 모험을 시작하게 됩니다. 이 과정에서 각각의 어려움과 감정적인 순간들을 겪으며 친구로서, 그리고 개개인으로서 성장해나가는 모습을 유쾌하고 감동적으로 그려냅니다.\n",
      "\n",
      "영화는 중년과 노년의 사랑과 삶에 대한 통념에 도전하면서도 유머와 따뜻한 감정을 잃지 않는 코미디입니다. 더 많은 정보를 입력하겠습니까?\n"
     ]
    }
   ],
   "source": [
    "messages = [{\"role\": \"system\", \"content\": movie_prompt}]\n",
    "\n",
    "while True:\n",
    "    text = input(\"관심사 또는 개인정보를 입력하세요. (종료: 'q'): \")\n",
    "    if text.lower() in ['q', 'ㅂ']:\n",
    "        break\n",
    "\n",
    "    messages.append({\"role\": \"user\", \"content\": text})\n",
    "    response = client.chat.completions.create(\n",
    "        model=\"gpt-4-turbo\",\n",
    "        messages=messages,\n",
    "        stream=False  # 스트리밍 비활성화\n",
    "    )\n",
    "\n",
    "    full_reply = response.choices[0].message.content  # 전체 응답을 한 번에 가져옴\n",
    "    print(full_reply)\n",
    "\n",
    "    messages.append({\"role\": \"assistant\", \"content\": full_reply})"
   ]
  },
  {
   "cell_type": "code",
   "execution_count": null,
   "id": "2a464f66",
   "metadata": {},
   "outputs": [],
   "source": [
    "# 사용한 프롬프트 :\n",
    "# 장르 코믹영화, 나이는 50대, 여성이고 주말에 즐거움을 영화추천 부탁해\n",
    "# 위에서 설명한 3번 영화에 줄거리를 설명해줘\n",
    "# 나는 호러를 싫어하고 권선징악 코믹을 다시 추천해줘"
   ]
  },
  {
   "cell_type": "code",
   "execution_count": 19,
   "id": "c08dd27d",
   "metadata": {},
   "outputs": [
    {
     "name": "stdout",
     "output_type": "stream",
     "text": [
      "50대 여성분께서 주말에 즐길 수 있는 코믹 영화를 추천해 드리겠습니다. 다음은 기분 좋은 웃음과 따뜻한 감동을 제공할 수 있는 영화들입니다:\n",
      "\n",
      "1. **메릴 스트립이 주연한 \"데블 웨어스 프라다\" (The Devil Wears Prada)** - 패션 잡지 편집장과 그녀의 새로운 보조원 사이의 재미난 일상을 다룬 코미디 영화입니다.\n",
      "2. **\"베스트 엑조틱 메리골드 호텔\" (The Best Exotic Marigold Hotel)** - 퇴직 후 인도의 호텔에서 새로운 삶을 시작하려는 영국 노년층의 이야기를 유쾌하게 풀어낸 영화입니다.\n",
      "3. **\"이터널 선샤인\" (Fried Green Tomatoes)** - 강하고 독립적인 여성 캐릭터들이 중심이 되어 가슴 따뜻해지는 여정을 그려낸 작품입니다.\n",
      "4. **\"인턴\" (The Intern)** - 은퇴 후 인턴으로 생활을 시작한 남성이 젊은 직장 동료들과 교류하며 겪는 이야기를 담은 영화입니다.\n",
      "5. **\"맘마미아!\" (Mamma Mia!)** - 에너지 넘치는 음악과 함께 하는 서스펜스, 갑작스러운 정체 발각 등이 포함된 유쾌한 작품입니다.\n",
      "\n",
      "이 영화들은 주말을 편안하고 즐겁게 보내기에 적합한 선택이 될 것입니다.\n",
      "\n",
      "더 많은 정보를 입력하겠습니까?죄송합니다, 3번 영화 지칭에 혼란이 있었습니다. \"이터널 선샤인\"이 아닌 \"Fried Green Tomatoes\"를 \"이터널 선샤인\"으로 잘못 기재했습니다. \"Fried Green Tomatoes\"의 줄거리를 정확하게 알려드리겠습니다.\n",
      "\n",
      "**\"Fried Green Tomatoes\" (프라이드 그린 토마토)**는 여성 간의 우정과 강인함을 다룬 영화입니다. 이 영화는 1980년대의 주부이자 가정주부인 에블린 쿠치와 노년의 루시리드에게 이야기를 듣게 되는 방식으로 구성됩니다. 루시가 들려주는 이야기는 1930년대 앨라배마에서의 지인들의 삶, 특히 아이디기 폴크와 루스 잼슨의 우정을 중심으로 펼쳐집니다. 필요 이상으로 남편에게 소홀하게 다루어지던 루스는 아이디기의 도움으로 자신감을 찾고 새로운 삶을 시작합니다. 영화는 과거와 현재를 오가며 강하고 독립적인 여성 캐릭터들의 성장과 변화를 보여 줍니다.\n",
      "\n",
      "이 작품은 우정, 가족, 여성의 역량 강화 등의 테마를 담고 있어 많은 사람들에게 감동을 줍니다.\n",
      "\n",
      "더 많은 정보를 입력하겠습니까?"
     ]
    }
   ],
   "source": [
    "messages = [{\"role\": \"system\", \"content\": movie_prompt}] # 프롬프트 설정\n",
    "text = input(\"당신의 관심사 또는 개인정보(성별, 연령대 등)을 입력하세요.(종료는 `q` 입력): \")\n",
    "while True:\n",
    "    if text.lower() in ['q', 'ㅂ']: break # `q`, `Q`, `ㅂ`중 하나를 입력하면 종료\n",
    "    messages.append({\"role\":\"user\", \"content\":text}) # 관심정보를 메시지에 추가\n",
    "    response = client.chat.completions.create(\n",
    "        model=\"gpt-4-turbo\",\n",
    "        messages=messages,\n",
    "        stream=True # 스트리밍 응답\n",
    "    )\n",
    "    collected_messages = [] # 전체 응답을 저장할 리스트\n",
    "    for chunk in response:\n",
    "        chunk_message = chunk.choices[0].delta.content      # 청크 메시지 추출\n",
    "        collected_messages.append(chunk_message)\n",
    "        if(chunk_message==None): \n",
    "            text = input(\"추가정보 입력(종료는 `q`): \")\n",
    "        else:\n",
    "            print(f\"{chunk_message}\", end='')\n",
    "    collected_messages = [m for m in collected_messages if m is not None] # None아닌 메시지를 뽑아냄\n",
    "    full_reply_content = ''.join([m for m in collected_messages]) # 모든 청크 메시지를 연결\n",
    "\n",
    "    messages.append({\"role\":\"assistant\", \"content\": full_reply_content}) # 응답 메시지를 assistant에 저장"
   ]
  },
  {
   "cell_type": "code",
   "execution_count": null,
   "id": "2f26c645",
   "metadata": {},
   "outputs": [],
   "source": []
  }
 ],
 "metadata": {
  "kernelspec": {
   "display_name": "llm_env",
   "language": "python",
   "name": "python3"
  },
  "language_info": {
   "codemirror_mode": {
    "name": "ipython",
    "version": 3
   },
   "file_extension": ".py",
   "mimetype": "text/x-python",
   "name": "python",
   "nbconvert_exporter": "python",
   "pygments_lexer": "ipython3",
   "version": "3.10.19"
  }
 },
 "nbformat": 4,
 "nbformat_minor": 5
}

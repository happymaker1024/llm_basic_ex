{
 "cells": [
  {
   "cell_type": "markdown",
   "id": "b3df46f8",
   "metadata": {},
   "source": [
    "# 뉴스 요약하기"
   ]
  },
  {
   "cell_type": "markdown",
   "id": "068fdf55",
   "metadata": {},
   "source": [
    "## API key 로딩"
   ]
  },
  {
   "cell_type": "code",
   "execution_count": 1,
   "id": "2139eb21",
   "metadata": {},
   "outputs": [],
   "source": [
    "from dotenv import load_dotenv\n",
    "import os\n",
    "\n",
    "# 1️⃣ .env 파일의 내용을 로드\n",
    "load_dotenv(override=True)\n",
    "\n",
    "# 2️⃣ 환경 변수 가져오기\n",
    "OPENAI_API_KEY = os.getenv(\"OPENAI_API_KEY\")\n",
    "# print(OPENAI_API_KEY)"
   ]
  },
  {
   "cell_type": "markdown",
   "id": "07a5fd48",
   "metadata": {},
   "source": [
    "## 라이브러리 로딩 및 객체 생성"
   ]
  },
  {
   "cell_type": "code",
   "execution_count": 2,
   "id": "d06d756c",
   "metadata": {},
   "outputs": [],
   "source": [
    "from openai import OpenAI\n",
    "# openai api 인증 및 OpenAI 객체생성\n",
    "client = OpenAI(api_key=OPENAI_API_KEY)"
   ]
  },
  {
   "cell_type": "code",
   "execution_count": null,
   "id": "8664d357",
   "metadata": {},
   "outputs": [],
   "source": []
  },
  {
   "cell_type": "code",
   "execution_count": null,
   "id": "bc6e4cb6",
   "metadata": {},
   "outputs": [],
   "source": []
  },
  {
   "cell_type": "code",
   "execution_count": null,
   "id": "80ed310f",
   "metadata": {},
   "outputs": [],
   "source": []
  },
  {
   "cell_type": "code",
   "execution_count": null,
   "id": "f50a2e7f",
   "metadata": {},
   "outputs": [],
   "source": []
  },
  {
   "cell_type": "code",
   "execution_count": null,
   "id": "e6ab09f8",
   "metadata": {},
   "outputs": [],
   "source": []
  }
 ],
 "metadata": {
  "kernelspec": {
   "display_name": "llm_env",
   "language": "python",
   "name": "python3"
  },
  "language_info": {
   "codemirror_mode": {
    "name": "ipython",
    "version": 3
   },
   "file_extension": ".py",
   "mimetype": "text/x-python",
   "name": "python",
   "nbconvert_exporter": "python",
   "pygments_lexer": "ipython3",
   "version": "3.10.19"
  }
 },
 "nbformat": 4,
 "nbformat_minor": 5
}

{
 "cells": [
  {
   "cell_type": "markdown",
   "id": "b3df46f8",
   "metadata": {},
   "source": [
    "# openai api key 테스트"
   ]
  },
  {
   "cell_type": "markdown",
   "id": "068fdf55",
   "metadata": {},
   "source": [
    "## API key 로딩"
   ]
  },
  {
   "cell_type": "code",
   "execution_count": 1,
   "id": "2139eb21",
   "metadata": {},
   "outputs": [],
   "source": [
    "from dotenv import load_dotenv\n",
    "import os\n",
    "\n",
    "# 1️⃣ .env 파일의 내용을 로드\n",
    "load_dotenv(override=True)\n",
    "\n",
    "# 2️⃣ 환경 변수 가져오기\n",
    "OPENAI_API_KEY = os.getenv(\"OPENAI_API_KEY\")\n",
    "# print(OPENAI_API_KEY)"
   ]
  },
  {
   "cell_type": "markdown",
   "id": "07a5fd48",
   "metadata": {},
   "source": [
    "## 라이브러리 로딩 및 객체 생성"
   ]
  },
  {
   "cell_type": "code",
   "execution_count": 20,
   "id": "d06d756c",
   "metadata": {},
   "outputs": [],
   "source": [
    "from openai import OpenAI\n",
    "# openai api 인증 및 OpenAI 객체생성\n",
    "client = OpenAI(api_key=OPENAI_API_KEY)"
   ]
  },
  {
   "cell_type": "markdown",
   "id": "7a91c455",
   "metadata": {},
   "source": [
    "## gpt ai 모델에 질문하기"
   ]
  },
  {
   "cell_type": "code",
   "execution_count": 21,
   "id": "0ddc6eff",
   "metadata": {},
   "outputs": [],
   "source": [
    "response = client.responses.create(\n",
    "    model=\"gpt-5\",\n",
    "    input=\"안녕, gpt-5는 처음이야. 인사만 하자\"\n",
    ")"
   ]
  },
  {
   "cell_type": "markdown",
   "id": "5802e1d5",
   "metadata": {},
   "source": [
    "## 응답결과 파싱"
   ]
  },
  {
   "cell_type": "code",
   "execution_count": 16,
   "id": "f071a5af",
   "metadata": {},
   "outputs": [
    {
     "name": "stdout",
     "output_type": "stream",
     "text": [
      "Response(id='resp_0e69e28bc7c3ad710068fed57163b08191bc80c3bb6f5bb261', created_at=1761531249.0, error=None, incomplete_details=None, instructions=None, metadata={}, model='gpt-5-2025-08-07', object='response', output=[ResponseReasoningItem(id='rs_0e69e28bc7c3ad710068fed572367481918b9973555b3bd78b', summary=[], type='reasoning', content=None, encrypted_content=None, status=None), ResponseOutputMessage(id='msg_0e69e28bc7c3ad710068fed575aa60819199af7f70faa8f067', content=[ResponseOutputText(annotations=[], text='반가워! 만나서 정말 기뻐. 좋은 하루 보내자!', type='output_text', logprobs=[])], role='assistant', status='completed', type='message')], parallel_tool_calls=True, temperature=1.0, tool_choice='auto', tools=[], top_p=1.0, background=False, conversation=None, max_output_tokens=None, max_tool_calls=None, previous_response_id=None, prompt=None, prompt_cache_key=None, reasoning=Reasoning(effort='medium', generate_summary=None, summary=None), safety_identifier=None, service_tier='default', status='completed', text=ResponseTextConfig(format=ResponseFormatText(type='text'), verbosity='medium'), top_logprobs=0, truncation='disabled', usage=ResponseUsage(input_tokens=23, input_tokens_details=InputTokensDetails(cached_tokens=0), output_tokens=151, output_tokens_details=OutputTokensDetails(reasoning_tokens=128), total_tokens=174), user=None, billing={'payer': 'developer'}, store=True)\n"
     ]
    }
   ],
   "source": [
    "print(response)"
   ]
  },
  {
   "cell_type": "markdown",
   "id": "bc241b71",
   "metadata": {},
   "source": [
    "- AI의 응답결과  \n",
    "Response(id='resp_02da22a3208e369f0068fecc7b5fa881a18510bee40c4626af', created_at=1761528955.0, error=None, incomplete_details=None, instructions=None, metadata={}, model='gpt-5-2025-08-07', object='response', output=[ResponseReasoningItem(id='rs_02da22a3208e369f0068fecc7bede881a1bf8b5f564e375a67', summary=[], type='reasoning', content=None, encrypted_content=None, status=None), ResponseOutputMessage(id='msg_02da22a3208e369f0068fecc80081481a18a2fefc02a518d7f', content=[ResponseOutputText(annotations=[], text='안녕! 만나서 반가워 😊', type='output_text', logprobs=[])], role='assistant', status='completed', type='message')], parallel_tool_calls=True, temperature=1.0, tool_choice='auto', tools=[], top_p=1.0, background=False, conversation=None, max_output_tokens=None, max_tool_calls=None, previous_response_id=None, prompt=None, prompt_cache_key=None, reasoning=Reasoning(effort='medium', generate_summary=None, summary=None), safety_identifier=None, service_tier='default', status='completed', text=ResponseTextConfig(format=ResponseFormatText(type='text'), verbosity='medium'), top_logprobs=0, truncation='disabled', usage=ResponseUsage(input_tokens=23, input_tokens_details=InputTokensDetails(cached_tokens=0), output_tokens=271, output_tokens_details=OutputTokensDetails(reasoning_tokens=256), total_tokens=294), user=None, billing={'payer': 'developer'}, store=True)"
   ]
  },
  {
   "cell_type": "code",
   "execution_count": 17,
   "id": "de5e621d",
   "metadata": {},
   "outputs": [
    {
     "name": "stdout",
     "output_type": "stream",
     "text": [
      "반가워! 만나서 정말 기뻐. 좋은 하루 보내자!\n"
     ]
    }
   ],
   "source": [
    "print(response.output_text)"
   ]
  },
  {
   "cell_type": "markdown",
   "id": "a5d512ab",
   "metadata": {},
   "source": [
    "## 플리그라운드를 이용 실습"
   ]
  },
  {
   "cell_type": "code",
   "execution_count": null,
   "id": "59227723",
   "metadata": {},
   "outputs": [],
   "source": [
    "from openai import OpenAI\n",
    "client = OpenAI(api_key=OPENAI_API_KEY)\n",
    "\n",
    "response = client.responses.create(\n",
    "    \n",
    "  prompt={\n",
    "    \"id\": \"pmpt_68fe544d26c48197ba8d76d9dfb9f38205f3914b0e8ed336\",\n",
    "    \"version\": \"2\",\n",
    "    \"variables\": {\n",
    "      \"city\": \"제주도\"\n",
    "    }\n",
    "  }\n",
    ")"
   ]
  },
  {
   "cell_type": "code",
   "execution_count": 23,
   "id": "7fed2ab8",
   "metadata": {},
   "outputs": [
    {
     "data": {
      "text/plain": [
       "Response(id='resp_03742a4d071f93490068fedc9cdcf88196b033e55531df8103', created_at=1761533085.0, error=None, incomplete_details=None, instructions=[EasyInputMessage(content=[ResponseInputText(text='너는 여행전문가야. 친절하게 답변해줘', type='input_text')], role='system', type='message'), EasyInputMessage(content=[ResponseInputText(text='사용자 질문이 들어오면 제주도의 관광을 안내해줘', type='input_text')], role='user', type='message')], metadata={}, model='gpt-5-chat-latest', object='response', output=[ResponseOutputMessage(id='msg_03742a4d071f93490068fedc9dee58819681f16c9591f98819', content=[ResponseOutputText(annotations=[], text='좋아요 😊  \\n앞으로 제주도 관광 안내 전문가로서 도와드리겠습니다!  \\n제주도의 명소, 맛집, 숙소, 교통, 여행 코스, 계절별 추천 등 어떤 주제로든 물어봐 주세요.  \\n\\n예를 들어, 이런 식으로 도와드릴 수 있어요:  \\n- **3박 4일 가족 여행 코스 추천**  \\n- **혼자 떠나는 힐링 여행지**  \\n- **제주도 맛집 베스트 10**  \\n- **차 없이 제주 여행하는 법**  \\n- **봄(또는 여름/가을/겨울)에 가기 좋은 명소**\\n\\n그럼, 어떤 제주 여행을 계획 중이신가요? 🌴✈️', type='output_text', logprobs=[])], role='assistant', status='completed', type='message')], parallel_tool_calls=True, temperature=1.0, tool_choice='auto', tools=[], top_p=1.0, background=False, conversation=None, max_output_tokens=2048, max_tool_calls=None, previous_response_id=None, prompt=ResponsePrompt(id='pmpt_68fe544d26c48197ba8d76d9dfb9f38205f3914b0e8ed336', variables={'city': ResponseInputText(text='제주도', type='input_text')}, version='2'), prompt_cache_key=None, reasoning=Reasoning(effort=None, generate_summary=None, summary=None), safety_identifier=None, service_tier='default', status='completed', text=ResponseTextConfig(format=ResponseFormatText(type='text'), verbosity='medium'), top_logprobs=0, truncation='disabled', usage=ResponseUsage(input_tokens=40, input_tokens_details=InputTokensDetails(cached_tokens=0), output_tokens=162, output_tokens_details=OutputTokensDetails(reasoning_tokens=0), total_tokens=202), user=None, billing={'payer': 'developer'}, store=True)"
      ]
     },
     "execution_count": 23,
     "metadata": {},
     "output_type": "execute_result"
    }
   ],
   "source": [
    "response"
   ]
  },
  {
   "cell_type": "code",
   "execution_count": 25,
   "id": "b29e8ffe",
   "metadata": {},
   "outputs": [
    {
     "name": "stdout",
     "output_type": "stream",
     "text": [
      "좋아요 😊  \n",
      "앞으로 제주도 관광 안내 전문가로서 도와드리겠습니다!  \n",
      "제주도의 명소, 맛집, 숙소, 교통, 여행 코스, 계절별 추천 등 어떤 주제로든 물어봐 주세요.  \n",
      "\n",
      "예를 들어, 이런 식으로 도와드릴 수 있어요:  \n",
      "- **3박 4일 가족 여행 코스 추천**  \n",
      "- **혼자 떠나는 힐링 여행지**  \n",
      "- **제주도 맛집 베스트 10**  \n",
      "- **차 없이 제주 여행하는 법**  \n",
      "- **봄(또는 여름/가을/겨울)에 가기 좋은 명소**\n",
      "\n",
      "그럼, 어떤 제주 여행을 계획 중이신가요? 🌴✈️\n"
     ]
    }
   ],
   "source": [
    "print(response.output_text)"
   ]
  },
  {
   "cell_type": "markdown",
   "id": "2a5377f1",
   "metadata": {},
   "source": [
    "# GPT 모델 프롬프트 이해\n",
    "- 프롬프트 구조 이해"
   ]
  },
  {
   "cell_type": "code",
   "execution_count": 26,
   "id": "06183e79",
   "metadata": {},
   "outputs": [],
   "source": [
    "# openai gpt 객체 생성\n",
    "client = OpenAI(api_key=OPENAI_API_KEY)"
   ]
  },
  {
   "cell_type": "code",
   "execution_count": 28,
   "id": "b3689ccb",
   "metadata": {},
   "outputs": [],
   "source": [
    "completion = client.chat.completions.create(\n",
    "    model=\"gpt-3.5-turbo\",\n",
    "    messages=[\n",
    "        # System 프롬프트\n",
    "        {\n",
    "            \"role\": \"system\",\n",
    "            \"content\": \"너는 IT전문가야. 초등학도 이해할 수 있도록 답변부탁해\"\n",
    "        },\n",
    "        # User 프롬프트\n",
    "        {\n",
    "            \"role\": \"user\",\n",
    "            \"content\": \"클라우드와 플랫폼의 차이점을 설명해줘\"\n",
    "        }\n",
    "    ]\n",
    ")"
   ]
  },
  {
   "cell_type": "code",
   "execution_count": 31,
   "id": "37d0c8b8",
   "metadata": {},
   "outputs": [
    {
     "data": {
      "text/plain": [
       "ChatCompletion(id='chatcmpl-CV8KxeR1S8HXTzyXMoLzykxbEMB10', choices=[Choice(finish_reason='stop', index=0, logprobs=None, message=ChatCompletionMessage(content='클라우드와 플랫폼은 둘 다 IT 분야에서 중요한 개념이지만, 각각 다른 의미를 갖고 있어. \\n\\n클라우드는 인터넷을 통해 서버, 저장소, 네트워크, 소프트웨어 및 기타 컴퓨팅 서비스를 제공하는 개념이야. 즉, 클라우드 컴퓨팅은 인터넷을 통해 다양한 컴퓨팅 서비스를 사용하는 것을 의미해. 클라우드 서비스를 통해 사용자는 물리적 서버를 직접 소유하거나 관리할 필요 없이 필요한 서비스를 원할 때 사용할 수 있어.\\n\\n반면에 플랫폼은 소프트웨어 개발 및 실행을 위한 환경을 제공하는 것을 의미해. 즉, 플랫폼은 애플리케이션을 개발하고 실행하기 위한 도구 및 서비스의 모음이라고 볼 수 있어. 플랫폼에는 언어, 프레임워크, 데이터베이스, 미들웨어 및 기타 도구와 서비스가 포함돼. 이를 통해 소프트웨어 개발자들은 더 쉽고 효율적으로 애플리케이션을 개발하고 운영할 수 있어.\\n\\n따라서, 클라우드는 서비스를 제공하는 인프라를 가리키고, 플랫폼은 애플리케이션을 개발하고 실행하기 위한 도구와 서비스를 제공하는 것을 의미해.', refusal=None, role='assistant', annotations=[], audio=None, function_call=None, tool_calls=None))], created=1761536251, model='gpt-3.5-turbo-0125', object='chat.completion', service_tier='default', system_fingerprint=None, usage=CompletionUsage(completion_tokens=499, prompt_tokens=67, total_tokens=566, completion_tokens_details=CompletionTokensDetails(accepted_prediction_tokens=0, audio_tokens=0, reasoning_tokens=0, rejected_prediction_tokens=0), prompt_tokens_details=PromptTokensDetails(audio_tokens=0, cached_tokens=0)))"
      ]
     },
     "execution_count": 31,
     "metadata": {},
     "output_type": "execute_result"
    }
   ],
   "source": [
    "completion"
   ]
  },
  {
   "cell_type": "code",
   "execution_count": 32,
   "id": "1c263f5e",
   "metadata": {},
   "outputs": [
    {
     "name": "stdout",
     "output_type": "stream",
     "text": [
      "클라우드와 플랫폼은 둘 다 IT 분야에서 중요한 개념이지만, 각각 다른 의미를 갖고 있어. \n",
      "\n",
      "클라우드는 인터넷을 통해 서버, 저장소, 네트워크, 소프트웨어 및 기타 컴퓨팅 서비스를 제공하는 개념이야. 즉, 클라우드 컴퓨팅은 인터넷을 통해 다양한 컴퓨팅 서비스를 사용하는 것을 의미해. 클라우드 서비스를 통해 사용자는 물리적 서버를 직접 소유하거나 관리할 필요 없이 필요한 서비스를 원할 때 사용할 수 있어.\n",
      "\n",
      "반면에 플랫폼은 소프트웨어 개발 및 실행을 위한 환경을 제공하는 것을 의미해. 즉, 플랫폼은 애플리케이션을 개발하고 실행하기 위한 도구 및 서비스의 모음이라고 볼 수 있어. 플랫폼에는 언어, 프레임워크, 데이터베이스, 미들웨어 및 기타 도구와 서비스가 포함돼. 이를 통해 소프트웨어 개발자들은 더 쉽고 효율적으로 애플리케이션을 개발하고 운영할 수 있어.\n",
      "\n",
      "따라서, 클라우드는 서비스를 제공하는 인프라를 가리키고, 플랫폼은 애플리케이션을 개발하고 실행하기 위한 도구와 서비스를 제공하는 것을 의미해.\n"
     ]
    }
   ],
   "source": [
    "print(completion.choices[0].message.content)"
   ]
  },
  {
   "cell_type": "code",
   "execution_count": null,
   "id": "babac54f",
   "metadata": {},
   "outputs": [],
   "source": [
    "completion = client.chat.completions.create(\n",
    "    model=\"gpt-5\",\n",
    "    messages=[\n",
    "        # System 프롬프트\n",
    "        {\n",
    "            \"role\": \"system\",\n",
    "            \"content\": \"너는 IT전문가야. 초등학도 이해할 수 있도록 답변부탁해\"\n",
    "        },\n",
    "        # User 프롬프트\n",
    "        {\n",
    "            \"role\": \"user\",\n",
    "            \"content\": \"클라우드와 플랫폼의 차이점을 설명해줘\"\n",
    "        }\n",
    "    ],\n",
    "    temperature=1,\n",
    "    # max_tokens=1024, <-- 사용자 설정 불가능\n",
    "    # top_p=0.5,  <-- 사용자 설정 불가능\n",
    ")"
   ]
  },
  {
   "cell_type": "code",
   "execution_count": 40,
   "id": "282abe6e",
   "metadata": {},
   "outputs": [
    {
     "name": "stdout",
     "output_type": "stream",
     "text": [
      "아주 쉽게 말해\n",
      "\n",
      "- 클라우드: 인터넷으로 “컴퓨터 힘과 저장공간을 빌려 쓰는 것”.\n",
      "- 플랫폼: 그 위에서 “무언가를 만들고 올리고 돌릴 수 있게 해주는 무대와 도구”.\n",
      "\n",
      "좀 더 쉽게 비유해볼게요\n",
      "\n",
      "- 클라우드 = 빌리는 건물과 전기\n",
      "  - 건물을 직접 짓지 않아도, 필요한 만큼 방(서버)과 창고(저장공간)를 인터넷으로 빌려 쓰는 거예요.\n",
      "- 플랫폼 = 그 건물 안에 준비된 작업대와 도구 세트\n",
      "  - 가위, 망치, 설명서가 있어서 누가 와도 바로 작품(앱·게임·영상 서비스)을 만들고 운영할 수 있어요.\n",
      "\n",
      "무엇이 다를까?\n",
      "\n",
      "- 초점\n",
      "  - 클라우드: “어디서, 얼마나 빌려 쓰냐” (컴퓨터 자원)\n",
      "  - 플랫폼: “무엇을 만들고 어떻게 돌리냐” (규칙과 도구)\n",
      "- 내가 하는 일\n",
      "  - 클라우드: 서버 켜기/끄기, 저장공간 늘리기처럼 바탕을 준비\n",
      "  - 플랫폼: 버튼 몇 번으로 앱 올리기, 게임 만들기, 영상 업로드처럼 바로 활용\n",
      "- 같이 쓰일 때가 많아요\n",
      "  - 많은 플랫폼이 클라우드 위에서 돌아가요. 그래서 “클라우드 플랫폼”이라는 말도 있어요.\n",
      "\n",
      "예시\n",
      "\n",
      "- 클라우드: AWS, Microsoft Azure, Google Cloud, Naver Cloud\n",
      "- 플랫폼:\n",
      "  - 앱 플랫폼: iOS, Android\n",
      "  - 동영상/창작 플랫폼: YouTube\n",
      "  - 게임 제작/운영 플랫폼: Roblox\n",
      "  - 웹/쇼핑몰 플랫폼: WordPress, Shopify\n",
      "\n",
      "한 줄로 정리\n",
      "- 클라우드는 빌려 쓰는 컴퓨터 공간이고, 플랫폼은 그 공간에서 쉽게 만들고 돌리게 해주는 무대와 도구예요.\n"
     ]
    }
   ],
   "source": [
    "print(completion.choices[0].message.content)"
   ]
  },
  {
   "cell_type": "code",
   "execution_count": 42,
   "id": "35df39a9",
   "metadata": {},
   "outputs": [],
   "source": [
    "# model=\"gpt-4\" 사용\n",
    "completion = client.chat.completions.create(\n",
    "    model=\"gpt-4\",\n",
    "    messages=[\n",
    "        # System 프롬프트\n",
    "        {\n",
    "            \"role\": \"system\",\n",
    "            \"content\": \"너는 IT전문가야. 초등학도 이해할 수 있도록 답변부탁해\"\n",
    "        },\n",
    "        # User 프롬프트\n",
    "        {\n",
    "            \"role\": \"user\",\n",
    "            \"content\": \"클라우드와 플랫폼의 차이점을 설명해줘\"\n",
    "        }\n",
    "    ],\n",
    "    temperature=1,\n",
    "    max_tokens=4000,  #<-- 사용자 설정 불가능\n",
    "    top_p=0.5,   #<-- 사용자 설정 불가능\n",
    ")"
   ]
  },
  {
   "cell_type": "code",
   "execution_count": 43,
   "id": "883a1b9a",
   "metadata": {},
   "outputs": [
    {
     "name": "stdout",
     "output_type": "stream",
     "text": [
      "그럼, 먼저 \"클라우드\"에 대해 이야기해볼게. 클라우드는 마치 구름처럼 높은 곳에 데이터를 저장하고, 어디서든 인터넷을 통해 접근할 수 있는 공간을 말해. 예를 들어, 네가 스마트폰에 사진을 찍어서 클라우드에 저장하면, 컴퓨터에서도 그 사진을 볼 수 있어. \n",
      "\n",
      "반면에 \"플랫폼\"은 마치 무대 같은 것이야. 무대 위에서 여러 가지 활동을 할 수 있듯이, 플랫폼은 여러 가지 프로그램이나 앱을 만들고, 실행하고, 관리할 수 있는 공간이야. 예를 들어, 유튜브는 영상을 올리고, 보고, 공유할 수 있는 플랫폼이야.\n",
      "\n",
      "그래서 클라우드와 플랫폼은 서로 다른 개념이지만, 같이 사용되기도 해. 예를 들어, 클라우드 플랫폼은 인터넷을 통해 어디서든 접근할 수 있는 무대를 제공하고, 그 무대 위에서 앱을 만들고, 실행하고, 관리할 수 있게 해줘.\n"
     ]
    }
   ],
   "source": [
    "print(completion.choices[0].message.content)"
   ]
  },
  {
   "cell_type": "code",
   "execution_count": null,
   "id": "8664d357",
   "metadata": {},
   "outputs": [],
   "source": []
  }
 ],
 "metadata": {
  "kernelspec": {
   "display_name": "llm_env",
   "language": "python",
   "name": "python3"
  },
  "language_info": {
   "codemirror_mode": {
    "name": "ipython",
    "version": 3
   },
   "file_extension": ".py",
   "mimetype": "text/x-python",
   "name": "python",
   "nbconvert_exporter": "python",
   "pygments_lexer": "ipython3",
   "version": "3.10.19"
  }
 },
 "nbformat": 4,
 "nbformat_minor": 5
}

{
 "cells": [
  {
   "cell_type": "markdown",
   "id": "02720adb",
   "metadata": {},
   "source": [
    "# 토큰 계산하기"
   ]
  },
  {
   "cell_type": "code",
   "execution_count": 1,
   "id": "d10766fd",
   "metadata": {},
   "outputs": [
    {
     "name": "stdout",
     "output_type": "stream",
     "text": [
      "토큰 수: 18\n",
      "토큰 목록: [14307, 171731, 11, 106820, 174803, 128372, 11440, 68258, 118101, 8963, 4831, 173939, 5650, 43714, 227, 5637, 2276, 0]\n"
     ]
    }
   ],
   "source": [
    "import tiktoken\n",
    "\n",
    "# 사용할 모델 이름 지정\n",
    "model_name = \"gpt-4o\"  # gpt-3.5-turbo, gpt-4, gpt-4o 등\n",
    "\n",
    "# 모델에 맞는 인코딩 가져오기\n",
    "encoding = tiktoken.encoding_for_model(model_name)\n",
    "\n",
    "# 계산할 텍스트\n",
    "text = \"안녕하세요, 오늘 GPT 모델에서 토큰 수를 계산해봅시다!\"\n",
    "\n",
    "# 토큰화\n",
    "tokens = encoding.encode(text)\n",
    "\n",
    "print(\"토큰 수:\", len(tokens))\n",
    "print(\"토큰 목록:\", tokens)\n"
   ]
  },
  {
   "cell_type": "markdown",
   "id": "19b8dcad",
   "metadata": {},
   "source": [
    "- 토큰당 비용 계산"
   ]
  },
  {
   "cell_type": "code",
   "execution_count": 2,
   "id": "8cd43e9f",
   "metadata": {},
   "outputs": [
    {
     "name": "stdout",
     "output_type": "stream",
     "text": [
      "이번 호출 비용: $0.002300\n"
     ]
    }
   ],
   "source": [
    "# 모델별 1k토큰 당 가격\n",
    "price_per_1k = {\n",
    "    \"prompt\": 0.003,      # gpt-4o 예시\n",
    "    \"completion\": 0.004\n",
    "}\n",
    "\n",
    "prompt_tokens = 500\n",
    "completion_tokens = 200\n",
    "\n",
    "cost = (prompt_tokens / 1000) * price_per_1k[\"prompt\"] + (completion_tokens / 1000) * price_per_1k[\"completion\"]\n",
    "\n",
    "print(f\"이번 호출 비용: ${cost:.6f}\")\n"
   ]
  },
  {
   "cell_type": "code",
   "execution_count": null,
   "id": "7d7f9a86",
   "metadata": {},
   "outputs": [],
   "source": []
  }
 ],
 "metadata": {
  "kernelspec": {
   "display_name": "llm_env",
   "language": "python",
   "name": "python3"
  },
  "language_info": {
   "codemirror_mode": {
    "name": "ipython",
    "version": 3
   },
   "file_extension": ".py",
   "mimetype": "text/x-python",
   "name": "python",
   "nbconvert_exporter": "python",
   "pygments_lexer": "ipython3",
   "version": "3.10.19"
  }
 },
 "nbformat": 4,
 "nbformat_minor": 5
}
